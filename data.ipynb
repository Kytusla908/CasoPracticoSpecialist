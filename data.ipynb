{
 "cells": [
  {
   "cell_type": "markdown",
   "metadata": {},
   "source": [
    "# Scrap de datos"
   ]
  },
  {
   "cell_type": "markdown",
   "metadata": {},
   "source": [
    "# Lectura del archivo"
   ]
  },
  {
   "cell_type": "code",
   "execution_count": 8,
   "metadata": {},
   "outputs": [],
   "source": [
    "import pandas as pd\n",
    "\n",
    "# Load the data from the provided text file\n",
    "data = pd.read_csv('teenagers_posts_2024-07-12_15-02-29.txt', delimiter='\\t', header=None, names=['post', 'label'])\n"
   ]
  },
  {
   "cell_type": "markdown",
   "metadata": {},
   "source": [
    "# Txt to csv file"
   ]
  },
  {
   "cell_type": "code",
   "execution_count": 6,
   "metadata": {},
   "outputs": [],
   "source": [
    "data.to_csv('teenagers_posts.csv', index=False)"
   ]
  },
  {
   "cell_type": "markdown",
   "metadata": {},
   "source": [
    "# Creación del DataFrame"
   ]
  },
  {
   "cell_type": "code",
   "execution_count": 45,
   "metadata": {},
   "outputs": [
    {
     "data": {
      "text/html": [
       "<div>\n",
       "<style scoped>\n",
       "    .dataframe tbody tr th:only-of-type {\n",
       "        vertical-align: middle;\n",
       "    }\n",
       "\n",
       "    .dataframe tbody tr th {\n",
       "        vertical-align: top;\n",
       "    }\n",
       "\n",
       "    .dataframe thead th {\n",
       "        text-align: right;\n",
       "    }\n",
       "</style>\n",
       "<table border=\"1\" class=\"dataframe\">\n",
       "  <thead>\n",
       "    <tr style=\"text-align: right;\">\n",
       "      <th></th>\n",
       "      <th>posts</th>\n",
       "      <th>label</th>\n",
       "    </tr>\n",
       "  </thead>\n",
       "  <tbody>\n",
       "    <tr>\n",
       "      <th>0</th>\n",
       "      <td>Is it gayer to have a relationship with a man ...</td>\n",
       "      <td>NaN</td>\n",
       "    </tr>\n",
       "    <tr>\n",
       "      <th>1</th>\n",
       "      <td>Quitting porn day 1 I don’t even watch porn bu...</td>\n",
       "      <td>NaN</td>\n",
       "    </tr>\n",
       "    <tr>\n",
       "      <th>2</th>\n",
       "      <td>nah yeah mudcrabs are GIANT like genuinely the...</td>\n",
       "      <td>NaN</td>\n",
       "    </tr>\n",
       "    <tr>\n",
       "      <th>3</th>\n",
       "      <td>I feel like I'm gonna tranced to a different r...</td>\n",
       "      <td>NaN</td>\n",
       "    </tr>\n",
       "    <tr>\n",
       "      <th>4</th>\n",
       "      <td>does anyone else get horrifically down atrocio...</td>\n",
       "      <td>NaN</td>\n",
       "    </tr>\n",
       "  </tbody>\n",
       "</table>\n",
       "</div>"
      ],
      "text/plain": [
       "                                               posts  label\n",
       "0  Is it gayer to have a relationship with a man ...    NaN\n",
       "1  Quitting porn day 1 I don’t even watch porn bu...    NaN\n",
       "2  nah yeah mudcrabs are GIANT like genuinely the...    NaN\n",
       "3  I feel like I'm gonna tranced to a different r...    NaN\n",
       "4  does anyone else get horrifically down atrocio...    NaN"
      ]
     },
     "execution_count": 45,
     "metadata": {},
     "output_type": "execute_result"
    }
   ],
   "source": [
    "# Load CSV into DataFrame\n",
    "file_path = 'teenagers_posts.csv'\n",
    "data = pd.read_csv(file_path)\n",
    "\n",
    "# Merge 'title' and 'selftext' into a new column 'merged_text'\n",
    "data['merged_text'] = data['title'] + ' ' + data['selftext']\n",
    "\n",
    "# Drop 'title' and 'selftext' columns\n",
    "data.drop(columns=['title', 'selftext'], inplace=True)\n",
    "\n",
    "# Rearrange columns\n",
    "cols = data.columns.tolist()\n",
    "cols = ['merged_text'] + [col for col in cols if col != 'merged_text']\n",
    "data = data[cols]\n",
    "\n",
    "# Rename 'merged_text' column to 'posts'\n",
    "data.rename(columns={'merged_text': 'posts'}, inplace=True)\n",
    "\n",
    "# Save modified DataFrame back to CSV file\n",
    "modified_file_path = 'teenagers_posts_modified.csv'\n",
    "data.to_csv(modified_file_path, index=False)\n",
    "\n",
    "data.head()"
   ]
  },
  {
   "cell_type": "markdown",
   "metadata": {},
   "source": [
    "# Limpieza de datos"
   ]
  },
  {
   "cell_type": "code",
   "execution_count": 46,
   "metadata": {},
   "outputs": [
    {
     "name": "stdout",
     "output_type": "stream",
     "text": [
      "                                               posts  label\n",
      "0  is it gayer to have a relationship with a man ...    NaN\n",
      "1  quitting porn day i dont even watch porn but e...    NaN\n",
      "2  nah yeah mudcrabs are giant like genuinely the...    NaN\n",
      "3  i feel like im gonna tranced to a different re...    NaN\n",
      "4  does anyone else get horrifically down atrocio...    NaN\n"
     ]
    }
   ],
   "source": [
    "import re\n",
    "\n",
    "# Remove duplicates and handle missing values\n",
    "data.drop_duplicates(inplace=True)\n",
    "data.dropna(inplace=True)\n",
    "\n",
    "# Function to remove special characters, URLs, and unnecessary whitespace\n",
    "def clean_text(text):\n",
    "    # Remove URLs\n",
    "    text = re.sub(r'http\\S+', '', text)\n",
    "    \n",
    "    # Remove special characters and numbers (retain only letters)\n",
    "    text = re.sub(r'[^a-zA-Z\\s]', '', text)\n",
    "    \n",
    "    # Normalize spaces to single space and convert to lowercase\n",
    "    text = re.sub(r'\\s+', ' ', text).strip().lower()\n",
    "    \n",
    "    return text\n",
    "\n",
    "# Load CSV into DataFrame\n",
    "file_path = './teenagers_posts_modified.csv'\n",
    "data = pd.read_csv(file_path)\n",
    "\n",
    "# Apply clean_text function to 'posts' column\n",
    "data['posts'] = data['posts'].apply(clean_text)\n",
    "\n",
    "# Save cleaned DataFrame back to CSV file\n",
    "cleaned_file_path = 'teenagers_cleaned.csv'\n",
    "data.to_csv(cleaned_file_path, index=False)\n",
    "\n",
    "# Print first few rows to verify\n",
    "print(data.head())"
   ]
  },
  {
   "cell_type": "markdown",
   "metadata": {},
   "source": [
    "# Etiquetado del Dataset"
   ]
  },
  {
   "cell_type": "markdown",
   "metadata": {},
   "source": [
    "Criteria for depression labeling:\n",
    "+ Expressions of persistent sadness, hopelessness, or emptiness.\n",
    "+ Mentions of losing interest in activities once enjoyed.\n",
    "+ Statements indicating feelings of worthlessness or excessive guilt.\n",
    "+ Posts discussing fatigue, low energy, or sleep disturbances related to mood.\n",
    "+ Descriptions of difficulty concentrating or making decisions.\n",
    "+ Mentions of significant weight changes or appetite changes due to mood.\n",
    "\n",
    "Criteria for suicidal tendencies labeling:\n",
    "+ Explicit mentions of wanting to die or commit suicide.\n",
    "+ Statements indicating plans or methods for committing suicide.\n",
    "+ Posts expressing a desire to escape life or end one's suffering.\n",
    "+ References to self-harm with suicidal intent.\n",
    "+ Expressions of severe despair with no perceived way out.\n",
    "\n",
    "Critera for neutral/other posts\n",
    "+ Posts that do not express any symptoms or indicators of depression or suicidal tendencies.\n",
    "+ General discussions, questions, or statements about daily life, interests, or activities.\n",
    "+ Positive or neutral expressions, including casual conversations, jokes, or light-hearted content."
   ]
  },
  {
   "cell_type": "markdown",
   "metadata": {},
   "source": [
    "Labeling:\n",
    "+ No Depression / No Suicidal Thoughts:\n",
    "Text does not indicate any signs of depression or suicidal thoughts.\n",
    "\n",
    "+ Mild Depression:\n",
    "Text shows subtle signs or mild expressions of sadness, hopelessness, or lack of interest.\n",
    "\n",
    "+ Moderate Depression:\n",
    "Text indicates moderate levels of depressive symptoms, such as persistent sadness, decreased energy, or changes in sleep or appetite.\n",
    "\n",
    "+ Severe Depression:\n",
    "Text reflects severe depressive symptoms, including intense feelings of despair, significant loss of interest in activities, or thoughts of worthlessness.\n",
    "\n",
    "+ Mild Suicidal Thoughts:\n",
    "Text contains passive or fleeting thoughts about death or suicide without specific plans or intent.\n",
    "\n",
    "+ Moderate Suicidal Thoughts:\n",
    "Text includes more persistent or frequent thoughts about death or suicide, sometimes with vague plans or ideation.\n",
    "\n",
    "+ Severe Suicidal Thoughts:\n",
    "Text indicates intense and persistent thoughts of suicide, often with specific plans, intent, or preparatory behaviors.\n",
    "\n",
    "+ Positive / Coping:\n",
    "Text shows positive coping mechanisms, resilience, or strategies for managing stress or difficult emotions.\n",
    "\n",
    "+ Mixed Features:\n",
    "Text contains elements of both depressive symptoms and suicidal thoughts, which may vary in intensity or co-occurrence.\n",
    "\n",
    "+ Uncertain / Ambiguous: Text is unclear or ambiguous in terms of emotional state or symptoms related to depression or suicidal thoughts."
   ]
  },
  {
   "cell_type": "code",
   "execution_count": 11,
   "metadata": {},
   "outputs": [],
   "source": [
    "from sklearn.model_selection import train_test_split\n",
    "from sklearn.feature_extraction.text import TfidfVectorizer\n",
    "from sklearn.svm import SVC\n",
    "from sklearn.metrics import classification_report, accuracy_score"
   ]
  },
  {
   "cell_type": "code",
   "execution_count": 19,
   "metadata": {},
   "outputs": [
    {
     "name": "stdout",
     "output_type": "stream",
     "text": [
      "<class 'pandas.core.frame.DataFrame'>\n",
      "RangeIndex: 997 entries, 0 to 996\n",
      "Data columns (total 2 columns):\n",
      " #   Column  Non-Null Count  Dtype  \n",
      "---  ------  --------------  -----  \n",
      " 0   vposts  997 non-null    object \n",
      " 1   label   0 non-null      float64\n",
      "dtypes: float64(1), object(1)\n",
      "memory usage: 15.7+ KB\n"
     ]
    }
   ],
   "source": [
    "data = pd.read_csv('teenagers_cleaned.csv')\n",
    "data.info()"
   ]
  },
  {
   "cell_type": "code",
   "execution_count": 74,
   "metadata": {},
   "outputs": [],
   "source": [
    "# Define labels \n",
    "labels = {\n",
    "    'Positive': ['happy', 'content', 'normal', 'satisfied', 'positive', 'joyful', 'cheerful', 'carefree', 'peaceful', 'calm', 'stable', 'balanced', 'serene', 'hopeful', 'fulfilled', 'optimistic', 'lively', 'energetic', 'vibrant', 'thriving', 'well-adjusted', 'resilient', 'upbeat', 'buoyant', 'enthusiastic', 'lively', 'elated','resilient', 'coping', 'managing stress', 'problem-solving', 'optimistic', 'hopeful', 'supportive relationships', 'exercise', 'hobbies'],\n",
    "    'Mixed Features': ['conflicted', 'ambivalent', 'up and down', 'uncertain', 'mood swings', 'coping and struggling', 'swinging emotions','unsure', 'confused', 'unclear', 'mixed feelings', 'uncertain emotions', 'difficult to understand', 'unclear thoughts'],\n",
    "    'Depression/Suicidal Thoughts': ['sad', 'blue', 'down', 'low', 'unhappy', 'gloomy', 'discouraged', 'disinterested', 'unmotivated', 'indifferent', 'apathetic', 'listless', 'melancholic', 'withdrawn', 'quiet', 'mellow', 'subdued', 'contemplative', 'introspective', 'reflective', 'somber', 'despondent', 'forlorn', 'morose', 'melancholy','depressed', 'hopeless', 'helpless', 'tired', 'fatigued', 'irritable', 'restless', 'agitated', 'anxious', 'stressed', 'overwhelmed', 'burdened', 'somber', 'pensive', 'brooding', 'introspective', 'moody', 'despondent', 'troubled', 'disheartened','moody', 'despondent', 'troubled', 'disheartened', 'dejected', 'discouraged', 'bleak', 'dismal', 'wretched', 'distressed', 'haunted', 'despair', 'worthlessness', 'guilt', 'emptiness', 'numbness', 'isolation', 'loneliness', 'misery', 'anguish', 'sorrow', 'grief', 'devastated', 'devastated', 'anguish', 'agony', 'hopeless', 'suicidal', 'inconsolable', 'apathetic', 'thoughts','death', 'die', 'end it', 'disappear', 'escape', 'peaceful', 'painless', 'no reason to live','suicidal', 'planning', 'thinking about death', 'ways to die', 'unbearable pain', 'ending life', 'giving up','suicide', 'intent', 'method', 'preparation', 'goodbye letters', 'final arrangements', 'goodbye messages', 'suicide note'],\n",
    "}"
   ]
  },
  {
   "cell_type": "code",
   "execution_count": 79,
   "metadata": {},
   "outputs": [
    {
     "name": "stdout",
     "output_type": "stream",
     "text": [
      "                                              vposts           label\n",
      "0  is it gayer to have a relationship with a man ...         Neutral\n",
      "1  quitting porn day i dont even watch porn but e...         Neutral\n",
      "2  nah yeah mudcrabs are giant like genuinely the...         Neutral\n",
      "3  i feel like im gonna tranced to a different re...         Neutral\n",
      "4  does anyone else get horrifically down atrocio...  Mixed Features\n",
      "\n",
      "\n",
      "<class 'pandas.core.frame.DataFrame'>\n",
      "RangeIndex: 997 entries, 0 to 996\n",
      "Data columns (total 2 columns):\n",
      " #   Column  Non-Null Count  Dtype \n",
      "---  ------  --------------  ----- \n",
      " 0   vposts  997 non-null    object\n",
      " 1   label   997 non-null    object\n",
      "dtypes: object(2)\n",
      "memory usage: 15.7+ KB\n",
      "\n",
      "\n",
      " label\n",
      "Neutral                         875\n",
      "Depression/Suicidal Thoughts     77\n",
      "Positive                         35\n",
      "Mixed Features                   10\n",
      "Name: count, dtype: int64\n"
     ]
    }
   ],
   "source": [
    "# Flatten the labels dictionary\n",
    "flattened_labels = {word: category for category, words in labels.items() for word in words}\n",
    "\n",
    "# Function to categorize labels based on presence in text\n",
    "def categorize_label(text):\n",
    "    text = text.lower()  # Ensure the text is in lowercase for matching\n",
    "    words = text.split()\n",
    "    \n",
    "    for category, keywords in labels.items():\n",
    "        if any(word in words for word in keywords):\n",
    "            return category\n",
    "    return 'Neutral'  # Return 'Neutral' if no match found\n",
    "\n",
    "# Read the CSV file into a DataFrame\n",
    "file_path = 'teenagers_cleaned.csv'\n",
    "data = pd.read_csv(file_path)\n",
    "\n",
    "# Apply label categorization function\n",
    "data['label'] = data['vposts'].apply(lambda x: categorize_label(x))\n",
    "\n",
    "# Save the DataFrame with the new labels back to a CSV file (optional)\n",
    "output_file_path = 'teenagers_labeled.csv'\n",
    "data.to_csv(output_file_path, index=False)\n",
    "\n",
    "# Print the first few rows of the DataFrame to check the result\n",
    "print(data.head())\n",
    "print('\\n')\n",
    "data.info()\n",
    "print('\\n\\n', data['label'].value_counts())"
   ]
  },
  {
   "cell_type": "markdown",
   "metadata": {},
   "source": [
    "# Tokenización"
   ]
  },
  {
   "cell_type": "code",
   "execution_count": 80,
   "metadata": {},
   "outputs": [
    {
     "ename": "ModuleNotFoundError",
     "evalue": "No module named 'nltk'",
     "output_type": "error",
     "traceback": [
      "\u001b[1;31m---------------------------------------------------------------------------\u001b[0m",
      "\u001b[1;31mModuleNotFoundError\u001b[0m                       Traceback (most recent call last)",
      "Cell \u001b[1;32mIn[80], line 1\u001b[0m\n\u001b[1;32m----> 1\u001b[0m \u001b[38;5;28;01mimport\u001b[39;00m \u001b[38;5;21;01mnltk\u001b[39;00m\n\u001b[0;32m      2\u001b[0m \u001b[38;5;28;01mfrom\u001b[39;00m \u001b[38;5;21;01mnltk\u001b[39;00m\u001b[38;5;21;01m.\u001b[39;00m\u001b[38;5;21;01mtokenize\u001b[39;00m \u001b[38;5;28;01mimport\u001b[39;00m word_tokenize\n\u001b[0;32m      3\u001b[0m \u001b[38;5;28;01mfrom\u001b[39;00m \u001b[38;5;21;01mnltk\u001b[39;00m\u001b[38;5;21;01m.\u001b[39;00m\u001b[38;5;21;01mcorpus\u001b[39;00m \u001b[38;5;28;01mimport\u001b[39;00m stopwords\n",
      "\u001b[1;31mModuleNotFoundError\u001b[0m: No module named 'nltk'"
     ]
    }
   ],
   "source": [
    "import nltk\n",
    "from nltk.tokenize import word_tokenize\n",
    "from nltk.corpus import stopwords\n",
    "from nltk.stem import WordNetLemmatizer"
   ]
  },
  {
   "cell_type": "code",
   "execution_count": 27,
   "metadata": {},
   "outputs": [],
   "source": [
    " Tokenization and stop word removal\n",
    "stop_words = set(stopwords.words('english'))\n",
    "lemmatizer = WordNetLemmatizer()\n",
    "\n",
    "def preprocess_text(text):\n",
    "    words = word_tokenize(text.lower())\n",
    "    words = [lemmatizer.lemmatize(word) for word in words if word.isalnum() and word not in stop_words]\n",
    "    return ' '.join(words)\n",
    "\n",
    "data['processed_text'] = data['post'].apply(preprocess_text)\n"
   ]
  },
  {
   "cell_type": "markdown",
   "metadata": {},
   "source": [
    "# Análisis exploratorio y Visualización de datos inicial"
   ]
  },
  {
   "cell_type": "code",
   "execution_count": 28,
   "metadata": {},
   "outputs": [
    {
     "ename": "IndexError",
     "evalue": "index 0 is out of bounds for axis 0 with size 0",
     "output_type": "error",
     "traceback": [
      "\u001b[1;31m---------------------------------------------------------------------------\u001b[0m",
      "\u001b[1;31mIndexError\u001b[0m                                Traceback (most recent call last)",
      "Cell \u001b[1;32mIn[28], line 6\u001b[0m\n\u001b[0;32m      4\u001b[0m \u001b[38;5;66;03m# Visualize sentiment distribution\u001b[39;00m\n\u001b[0;32m      5\u001b[0m plt\u001b[38;5;241m.\u001b[39mfigure(figsize\u001b[38;5;241m=\u001b[39m(\u001b[38;5;241m8\u001b[39m, \u001b[38;5;241m6\u001b[39m))\n\u001b[1;32m----> 6\u001b[0m \u001b[43mdata\u001b[49m\u001b[43m[\u001b[49m\u001b[38;5;124;43m'\u001b[39;49m\u001b[38;5;124;43mlabel\u001b[39;49m\u001b[38;5;124;43m'\u001b[39;49m\u001b[43m]\u001b[49m\u001b[38;5;241;43m.\u001b[39;49m\u001b[43mvalue_counts\u001b[49m\u001b[43m(\u001b[49m\u001b[43m)\u001b[49m\u001b[38;5;241;43m.\u001b[39;49m\u001b[43mplot\u001b[49m\u001b[43m(\u001b[49m\u001b[43mkind\u001b[49m\u001b[38;5;241;43m=\u001b[39;49m\u001b[38;5;124;43m'\u001b[39;49m\u001b[38;5;124;43mbar\u001b[39;49m\u001b[38;5;124;43m'\u001b[39;49m\u001b[43m,\u001b[49m\u001b[43m \u001b[49m\u001b[43mcolor\u001b[49m\u001b[38;5;241;43m=\u001b[39;49m\u001b[38;5;124;43m'\u001b[39;49m\u001b[38;5;124;43mskyblue\u001b[39;49m\u001b[38;5;124;43m'\u001b[39;49m\u001b[43m)\u001b[49m\n\u001b[0;32m      7\u001b[0m plt\u001b[38;5;241m.\u001b[39mtitle(\u001b[38;5;124m'\u001b[39m\u001b[38;5;124mSentiment Distribution\u001b[39m\u001b[38;5;124m'\u001b[39m)\n\u001b[0;32m      8\u001b[0m plt\u001b[38;5;241m.\u001b[39mxlabel(\u001b[38;5;124m'\u001b[39m\u001b[38;5;124mSentiment\u001b[39m\u001b[38;5;124m'\u001b[39m)\n",
      "File \u001b[1;32mc:\\Users\\julia\\AppData\\Local\\Programs\\Python\\Python312\\Lib\\site-packages\\pandas\\plotting\\_core.py:1030\u001b[0m, in \u001b[0;36mPlotAccessor.__call__\u001b[1;34m(self, *args, **kwargs)\u001b[0m\n\u001b[0;32m   1027\u001b[0m             label_name \u001b[38;5;241m=\u001b[39m label_kw \u001b[38;5;129;01mor\u001b[39;00m data\u001b[38;5;241m.\u001b[39mcolumns\n\u001b[0;32m   1028\u001b[0m             data\u001b[38;5;241m.\u001b[39mcolumns \u001b[38;5;241m=\u001b[39m label_name\n\u001b[1;32m-> 1030\u001b[0m \u001b[38;5;28;01mreturn\u001b[39;00m \u001b[43mplot_backend\u001b[49m\u001b[38;5;241;43m.\u001b[39;49m\u001b[43mplot\u001b[49m\u001b[43m(\u001b[49m\u001b[43mdata\u001b[49m\u001b[43m,\u001b[49m\u001b[43m \u001b[49m\u001b[43mkind\u001b[49m\u001b[38;5;241;43m=\u001b[39;49m\u001b[43mkind\u001b[49m\u001b[43m,\u001b[49m\u001b[43m \u001b[49m\u001b[38;5;241;43m*\u001b[39;49m\u001b[38;5;241;43m*\u001b[39;49m\u001b[43mkwargs\u001b[49m\u001b[43m)\u001b[49m\n",
      "File \u001b[1;32mc:\\Users\\julia\\AppData\\Local\\Programs\\Python\\Python312\\Lib\\site-packages\\pandas\\plotting\\_matplotlib\\__init__.py:71\u001b[0m, in \u001b[0;36mplot\u001b[1;34m(data, kind, **kwargs)\u001b[0m\n\u001b[0;32m     69\u001b[0m         kwargs[\u001b[38;5;124m\"\u001b[39m\u001b[38;5;124max\u001b[39m\u001b[38;5;124m\"\u001b[39m] \u001b[38;5;241m=\u001b[39m \u001b[38;5;28mgetattr\u001b[39m(ax, \u001b[38;5;124m\"\u001b[39m\u001b[38;5;124mleft_ax\u001b[39m\u001b[38;5;124m\"\u001b[39m, ax)\n\u001b[0;32m     70\u001b[0m plot_obj \u001b[38;5;241m=\u001b[39m PLOT_CLASSES[kind](data, \u001b[38;5;241m*\u001b[39m\u001b[38;5;241m*\u001b[39mkwargs)\n\u001b[1;32m---> 71\u001b[0m \u001b[43mplot_obj\u001b[49m\u001b[38;5;241;43m.\u001b[39;49m\u001b[43mgenerate\u001b[49m\u001b[43m(\u001b[49m\u001b[43m)\u001b[49m\n\u001b[0;32m     72\u001b[0m plot_obj\u001b[38;5;241m.\u001b[39mdraw()\n\u001b[0;32m     73\u001b[0m \u001b[38;5;28;01mreturn\u001b[39;00m plot_obj\u001b[38;5;241m.\u001b[39mresult\n",
      "File \u001b[1;32mc:\\Users\\julia\\AppData\\Local\\Programs\\Python\\Python312\\Lib\\site-packages\\pandas\\plotting\\_matplotlib\\core.py:508\u001b[0m, in \u001b[0;36mMPLPlot.generate\u001b[1;34m(self)\u001b[0m\n\u001b[0;32m    506\u001b[0m \u001b[38;5;28;01mfor\u001b[39;00m ax \u001b[38;5;129;01min\u001b[39;00m \u001b[38;5;28mself\u001b[39m\u001b[38;5;241m.\u001b[39maxes:\n\u001b[0;32m    507\u001b[0m     \u001b[38;5;28mself\u001b[39m\u001b[38;5;241m.\u001b[39m_post_plot_logic_common(ax)\n\u001b[1;32m--> 508\u001b[0m     \u001b[38;5;28;43mself\u001b[39;49m\u001b[38;5;241;43m.\u001b[39;49m\u001b[43m_post_plot_logic\u001b[49m\u001b[43m(\u001b[49m\u001b[43max\u001b[49m\u001b[43m,\u001b[49m\u001b[43m \u001b[49m\u001b[38;5;28;43mself\u001b[39;49m\u001b[38;5;241;43m.\u001b[39;49m\u001b[43mdata\u001b[49m\u001b[43m)\u001b[49m\n",
      "File \u001b[1;32mc:\\Users\\julia\\AppData\\Local\\Programs\\Python\\Python312\\Lib\\site-packages\\pandas\\plotting\\_matplotlib\\core.py:1966\u001b[0m, in \u001b[0;36mBarPlot._post_plot_logic\u001b[1;34m(self, ax, data)\u001b[0m\n\u001b[0;32m   1963\u001b[0m \u001b[38;5;28;01melse\u001b[39;00m:\n\u001b[0;32m   1964\u001b[0m     str_index \u001b[38;5;241m=\u001b[39m [pprint_thing(key) \u001b[38;5;28;01mfor\u001b[39;00m key \u001b[38;5;129;01min\u001b[39;00m \u001b[38;5;28mrange\u001b[39m(data\u001b[38;5;241m.\u001b[39mshape[\u001b[38;5;241m0\u001b[39m])]\n\u001b[1;32m-> 1966\u001b[0m s_edge \u001b[38;5;241m=\u001b[39m \u001b[38;5;28;43mself\u001b[39;49m\u001b[38;5;241;43m.\u001b[39;49m\u001b[43max_pos\u001b[49m\u001b[43m[\u001b[49m\u001b[38;5;241;43m0\u001b[39;49m\u001b[43m]\u001b[49m \u001b[38;5;241m-\u001b[39m \u001b[38;5;241m0.25\u001b[39m \u001b[38;5;241m+\u001b[39m \u001b[38;5;28mself\u001b[39m\u001b[38;5;241m.\u001b[39mlim_offset\n\u001b[0;32m   1967\u001b[0m e_edge \u001b[38;5;241m=\u001b[39m \u001b[38;5;28mself\u001b[39m\u001b[38;5;241m.\u001b[39max_pos[\u001b[38;5;241m-\u001b[39m\u001b[38;5;241m1\u001b[39m] \u001b[38;5;241m+\u001b[39m \u001b[38;5;241m0.25\u001b[39m \u001b[38;5;241m+\u001b[39m \u001b[38;5;28mself\u001b[39m\u001b[38;5;241m.\u001b[39mbar_width \u001b[38;5;241m+\u001b[39m \u001b[38;5;28mself\u001b[39m\u001b[38;5;241m.\u001b[39mlim_offset\n\u001b[0;32m   1969\u001b[0m \u001b[38;5;28mself\u001b[39m\u001b[38;5;241m.\u001b[39m_decorate_ticks(ax, \u001b[38;5;28mself\u001b[39m\u001b[38;5;241m.\u001b[39m_get_index_name(), str_index, s_edge, e_edge)\n",
      "\u001b[1;31mIndexError\u001b[0m: index 0 is out of bounds for axis 0 with size 0"
     ]
    },
    {
     "data": {
      "image/png": "[encoded data removed]",
      "text/plain": [
       "<Figure size 800x600 with 1 Axes>"
      ]
     },
     "metadata": {},
     "output_type": "display_data"
    }
   ],
   "source": [
    "import matplotlib.pyplot as plt\n",
    "from wordcloud import WordCloud\n",
    "\n",
    "# Visualize sentiment distribution\n",
    "plt.figure(figsize=(8, 6))\n",
    "data['label'].value_counts().plot(kind='bar', color='skyblue')\n",
    "plt.title('Sentiment Distribution')\n",
    "plt.xlabel('Sentiment')\n",
    "plt.ylabel('Count')\n",
    "plt.xticks(rotation=0)\n",
    "plt.show()\n",
    "\n",
    "# Generate word cloud for each sentiment category\n",
    "for label in data['label'].unique():\n",
    "    wc = WordCloud(width=800, height=400, background_color='white').generate(' '.join(data[data['label'] == label]['processed_text']))\n",
    "    plt.figure(figsize=(10, 6))\n",
    "    plt.imshow(wc, interpolation='bilinear')\n",
    "    plt.title(f'Word Cloud for {label} Posts')\n",
    "    plt.axis('off')\n",
    "    plt.show()\n"
   ]
  },
  {
   "cell_type": "markdown",
   "metadata": {},
   "source": [
    "# División de datos, entrenamiento y evaluación del modelo"
   ]
  },
  {
   "cell_type": "code",
   "execution_count": null,
   "metadata": {},
   "outputs": [],
   "source": [
    "# Python code for data splitting, model training, and evaluation\n",
    "from sklearn.model_selection import train_test_split\n",
    "from sklearn.metrics import classification_report\n",
    "from sklearn.pipeline import Pipeline\n",
    "from sklearn.feature_extraction.text import TfidfVectorizer\n",
    "from sklearn.ensemble import RandomForestClassifier\n",
    "\n",
    "# Split data into training and testing sets\n",
    "X_train, X_test, y_train, y_test = train_test_split(data['processed_text'], data['label'], test_size=0.2, random_state=42)\n",
    "\n",
    "# Build a pipeline for model training and evaluation\n",
    "pipeline = Pipeline([\n",
    "    ('tfidf', TfidfVectorizer(max_features=1000)),\n",
    "    ('clf', RandomForestClassifier(n_estimators=100, random_state=42))\n",
    "])\n",
    "\n",
    "# Train the model\n",
    "pipeline.fit(X_train, y_train)\n",
    "\n",
    "# Evaluate the model\n",
    "y_pred = pipeline.predict(X_test)\n",
    "print(classification_report(y_test, y_pred))\n"
   ]
  }
 ],
 "metadata": {
  "kernelspec": {
   "display_name": "Python 3",
   "language": "python",
   "name": "python3"
  },
  "language_info": {
   "codemirror_mode": {
    "name": "ipython",
    "version": 3
   },
   "file_extension": ".py",
   "mimetype": "text/x-python",
   "name": "python",
   "nbconvert_exporter": "python",
   "pygments_lexer": "ipython3",
   "version": "3.9.18"
  }
 },
 "nbformat": 4,
 "nbformat_minor": 2
}
