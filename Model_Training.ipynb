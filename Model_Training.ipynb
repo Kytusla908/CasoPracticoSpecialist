{
 "cells": [
  {
   "cell_type": "markdown",
   "metadata": {},
   "source": [
    "# Load librearies"
   ]
  },
  {
   "cell_type": "code",
   "execution_count": 31,
   "metadata": {},
   "outputs": [],
   "source": [
    "import numpy as np\n",
    "import pandas as pd\n",
    "import matplotlib.pyplot as plt\n",
    "from sklearn.feature_extraction.text import CountVectorizer\n",
    "from sklearn.preprocessing import LabelEncoder\n",
    "from sklearn.model_selection import train_test_split\n"
   ]
  },
  {
   "cell_type": "markdown",
   "metadata": {},
   "source": [
    "# Load data"
   ]
  },
  {
   "cell_type": "code",
   "execution_count": 5,
   "metadata": {},
   "outputs": [
    {
     "data": {
      "text/html": [
       "<div>\n",
       "<style scoped>\n",
       "    .dataframe tbody tr th:only-of-type {\n",
       "        vertical-align: middle;\n",
       "    }\n",
       "\n",
       "    .dataframe tbody tr th {\n",
       "        vertical-align: top;\n",
       "    }\n",
       "\n",
       "    .dataframe thead th {\n",
       "        text-align: right;\n",
       "    }\n",
       "</style>\n",
       "<table border=\"1\" class=\"dataframe\">\n",
       "  <thead>\n",
       "    <tr style=\"text-align: right;\">\n",
       "      <th></th>\n",
       "      <th>Posts</th>\n",
       "      <th>label</th>\n",
       "      <th>tokenized_text</th>\n",
       "      <th>filtered_text</th>\n",
       "      <th>lemmatized_text</th>\n",
       "    </tr>\n",
       "  </thead>\n",
       "  <tbody>\n",
       "    <tr>\n",
       "      <th>0</th>\n",
       "      <td>so my mum is textbook abusive but not often en...</td>\n",
       "      <td>Positive</td>\n",
       "      <td>['so', 'my', 'mum', 'is', 'textbook', 'abusive...</td>\n",
       "      <td>['mum', 'textbook', 'abusive', 'often', 'enoug...</td>\n",
       "      <td>['mum', 'textbook', 'abusive', 'often', 'enoug...</td>\n",
       "    </tr>\n",
       "    <tr>\n",
       "      <th>1</th>\n",
       "      <td>hello i have never made a reddit post before b...</td>\n",
       "      <td>Depression/Suicidal Thoughts</td>\n",
       "      <td>['hello', 'i', 'have', 'never', 'made', 'a', '...</td>\n",
       "      <td>['hello', 'never', 'made', 'reddit', 'post', '...</td>\n",
       "      <td>['hello', 'never', 'made', 'reddit', 'post', '...</td>\n",
       "    </tr>\n",
       "    <tr>\n",
       "      <th>2</th>\n",
       "      <td>i m have tried to be nice to my parents and su...</td>\n",
       "      <td>Positive</td>\n",
       "      <td>['i', 'm', 'have', 'tried', 'to', 'be', 'nice'...</td>\n",
       "      <td>['tried', 'nice', 'parents', 'support', 'years...</td>\n",
       "      <td>['tried', 'nice', 'parent', 'support', 'year',...</td>\n",
       "    </tr>\n",
       "    <tr>\n",
       "      <th>3</th>\n",
       "      <td>i need some advice it will be a bit long but i...</td>\n",
       "      <td>Depression/Suicidal Thoughts</td>\n",
       "      <td>['i', 'need', 'some', 'advice', 'it', 'will', ...</td>\n",
       "      <td>['need', 'advice', 'bit', 'long', 'necessary',...</td>\n",
       "      <td>['need', 'advice', 'bit', 'long', 'necessary',...</td>\n",
       "    </tr>\n",
       "    <tr>\n",
       "      <th>4</th>\n",
       "      <td>hello im f from the ph with no close friends o...</td>\n",
       "      <td>Neutral</td>\n",
       "      <td>['hello', 'im', 'f', 'from', 'the', 'ph', 'wit...</td>\n",
       "      <td>['hello', 'im', 'f', 'ph', 'close', 'friends',...</td>\n",
       "      <td>['hello', 'im', 'f', 'ph', 'close', 'friend', ...</td>\n",
       "    </tr>\n",
       "  </tbody>\n",
       "</table>\n",
       "</div>"
      ],
      "text/plain": [
       "                                               Posts  \\\n",
       "0  so my mum is textbook abusive but not often en...   \n",
       "1  hello i have never made a reddit post before b...   \n",
       "2  i m have tried to be nice to my parents and su...   \n",
       "3  i need some advice it will be a bit long but i...   \n",
       "4  hello im f from the ph with no close friends o...   \n",
       "\n",
       "                          label  \\\n",
       "0                      Positive   \n",
       "1  Depression/Suicidal Thoughts   \n",
       "2                      Positive   \n",
       "3  Depression/Suicidal Thoughts   \n",
       "4                       Neutral   \n",
       "\n",
       "                                      tokenized_text  \\\n",
       "0  ['so', 'my', 'mum', 'is', 'textbook', 'abusive...   \n",
       "1  ['hello', 'i', 'have', 'never', 'made', 'a', '...   \n",
       "2  ['i', 'm', 'have', 'tried', 'to', 'be', 'nice'...   \n",
       "3  ['i', 'need', 'some', 'advice', 'it', 'will', ...   \n",
       "4  ['hello', 'im', 'f', 'from', 'the', 'ph', 'wit...   \n",
       "\n",
       "                                       filtered_text  \\\n",
       "0  ['mum', 'textbook', 'abusive', 'often', 'enoug...   \n",
       "1  ['hello', 'never', 'made', 'reddit', 'post', '...   \n",
       "2  ['tried', 'nice', 'parents', 'support', 'years...   \n",
       "3  ['need', 'advice', 'bit', 'long', 'necessary',...   \n",
       "4  ['hello', 'im', 'f', 'ph', 'close', 'friends',...   \n",
       "\n",
       "                                     lemmatized_text  \n",
       "0  ['mum', 'textbook', 'abusive', 'often', 'enoug...  \n",
       "1  ['hello', 'never', 'made', 'reddit', 'post', '...  \n",
       "2  ['tried', 'nice', 'parent', 'support', 'year',...  \n",
       "3  ['need', 'advice', 'bit', 'long', 'necessary',...  \n",
       "4  ['hello', 'im', 'f', 'ph', 'close', 'friend', ...  "
      ]
     },
     "execution_count": 5,
     "metadata": {},
     "output_type": "execute_result"
    }
   ],
   "source": [
    "data = pd.read_csv(\"token_datasets.csv\")\n",
    "data.head()"
   ]
  },
  {
   "cell_type": "code",
   "execution_count": 6,
   "metadata": {},
   "outputs": [
    {
     "data": {
      "text/html": [
       "<div>\n",
       "<style scoped>\n",
       "    .dataframe tbody tr th:only-of-type {\n",
       "        vertical-align: middle;\n",
       "    }\n",
       "\n",
       "    .dataframe tbody tr th {\n",
       "        vertical-align: top;\n",
       "    }\n",
       "\n",
       "    .dataframe thead th {\n",
       "        text-align: right;\n",
       "    }\n",
       "</style>\n",
       "<table border=\"1\" class=\"dataframe\">\n",
       "  <thead>\n",
       "    <tr style=\"text-align: right;\">\n",
       "      <th></th>\n",
       "      <th>label</th>\n",
       "      <th>lemmatized_text</th>\n",
       "    </tr>\n",
       "  </thead>\n",
       "  <tbody>\n",
       "    <tr>\n",
       "      <th>0</th>\n",
       "      <td>Positive</td>\n",
       "      <td>['mum', 'textbook', 'abusive', 'often', 'enoug...</td>\n",
       "    </tr>\n",
       "    <tr>\n",
       "      <th>1</th>\n",
       "      <td>Depression/Suicidal Thoughts</td>\n",
       "      <td>['hello', 'never', 'made', 'reddit', 'post', '...</td>\n",
       "    </tr>\n",
       "    <tr>\n",
       "      <th>2</th>\n",
       "      <td>Positive</td>\n",
       "      <td>['tried', 'nice', 'parent', 'support', 'year',...</td>\n",
       "    </tr>\n",
       "    <tr>\n",
       "      <th>3</th>\n",
       "      <td>Depression/Suicidal Thoughts</td>\n",
       "      <td>['need', 'advice', 'bit', 'long', 'necessary',...</td>\n",
       "    </tr>\n",
       "    <tr>\n",
       "      <th>4</th>\n",
       "      <td>Neutral</td>\n",
       "      <td>['hello', 'im', 'f', 'ph', 'close', 'friend', ...</td>\n",
       "    </tr>\n",
       "  </tbody>\n",
       "</table>\n",
       "</div>"
      ],
      "text/plain": [
       "                          label  \\\n",
       "0                      Positive   \n",
       "1  Depression/Suicidal Thoughts   \n",
       "2                      Positive   \n",
       "3  Depression/Suicidal Thoughts   \n",
       "4                       Neutral   \n",
       "\n",
       "                                     lemmatized_text  \n",
       "0  ['mum', 'textbook', 'abusive', 'often', 'enoug...  \n",
       "1  ['hello', 'never', 'made', 'reddit', 'post', '...  \n",
       "2  ['tried', 'nice', 'parent', 'support', 'year',...  \n",
       "3  ['need', 'advice', 'bit', 'long', 'necessary',...  \n",
       "4  ['hello', 'im', 'f', 'ph', 'close', 'friend', ...  "
      ]
     },
     "execution_count": 6,
     "metadata": {},
     "output_type": "execute_result"
    }
   ],
   "source": [
    "data = data.drop(['Posts','tokenized_text','filtered_text'], axis=1)\n",
    "data.head()"
   ]
  },
  {
   "cell_type": "markdown",
   "metadata": {},
   "source": [
    "# Word Vectorization"
   ]
  },
  {
   "cell_type": "code",
   "execution_count": 7,
   "metadata": {},
   "outputs": [
    {
     "data": {
      "text/html": [
       "<div>\n",
       "<style scoped>\n",
       "    .dataframe tbody tr th:only-of-type {\n",
       "        vertical-align: middle;\n",
       "    }\n",
       "\n",
       "    .dataframe tbody tr th {\n",
       "        vertical-align: top;\n",
       "    }\n",
       "\n",
       "    .dataframe thead th {\n",
       "        text-align: right;\n",
       "    }\n",
       "</style>\n",
       "<table border=\"1\" class=\"dataframe\">\n",
       "  <thead>\n",
       "    <tr style=\"text-align: right;\">\n",
       "      <th></th>\n",
       "      <th>aaaaa</th>\n",
       "      <th>aaaand</th>\n",
       "      <th>aaahhhhhh</th>\n",
       "      <th>aaron</th>\n",
       "      <th>ab</th>\n",
       "      <th>aba</th>\n",
       "      <th>aback</th>\n",
       "      <th>abandon</th>\n",
       "      <th>abandoned</th>\n",
       "      <th>abandoning</th>\n",
       "      <th>...</th>\n",
       "      <th>zoim</th>\n",
       "      <th>zombie</th>\n",
       "      <th>zomble</th>\n",
       "      <th>zone</th>\n",
       "      <th>zoned</th>\n",
       "      <th>zoning</th>\n",
       "      <th>zoo</th>\n",
       "      <th>zookeepers</th>\n",
       "      <th>zoom</th>\n",
       "      <th>zzz</th>\n",
       "    </tr>\n",
       "  </thead>\n",
       "  <tbody>\n",
       "    <tr>\n",
       "      <th>0</th>\n",
       "      <td>0</td>\n",
       "      <td>0</td>\n",
       "      <td>0</td>\n",
       "      <td>0</td>\n",
       "      <td>0</td>\n",
       "      <td>0</td>\n",
       "      <td>0</td>\n",
       "      <td>0</td>\n",
       "      <td>0</td>\n",
       "      <td>0</td>\n",
       "      <td>...</td>\n",
       "      <td>0</td>\n",
       "      <td>0</td>\n",
       "      <td>0</td>\n",
       "      <td>0</td>\n",
       "      <td>0</td>\n",
       "      <td>0</td>\n",
       "      <td>0</td>\n",
       "      <td>0</td>\n",
       "      <td>0</td>\n",
       "      <td>0</td>\n",
       "    </tr>\n",
       "    <tr>\n",
       "      <th>1</th>\n",
       "      <td>0</td>\n",
       "      <td>0</td>\n",
       "      <td>0</td>\n",
       "      <td>0</td>\n",
       "      <td>0</td>\n",
       "      <td>0</td>\n",
       "      <td>0</td>\n",
       "      <td>0</td>\n",
       "      <td>0</td>\n",
       "      <td>0</td>\n",
       "      <td>...</td>\n",
       "      <td>0</td>\n",
       "      <td>0</td>\n",
       "      <td>0</td>\n",
       "      <td>0</td>\n",
       "      <td>0</td>\n",
       "      <td>0</td>\n",
       "      <td>0</td>\n",
       "      <td>0</td>\n",
       "      <td>0</td>\n",
       "      <td>0</td>\n",
       "    </tr>\n",
       "    <tr>\n",
       "      <th>2</th>\n",
       "      <td>0</td>\n",
       "      <td>0</td>\n",
       "      <td>0</td>\n",
       "      <td>0</td>\n",
       "      <td>0</td>\n",
       "      <td>0</td>\n",
       "      <td>0</td>\n",
       "      <td>0</td>\n",
       "      <td>0</td>\n",
       "      <td>0</td>\n",
       "      <td>...</td>\n",
       "      <td>0</td>\n",
       "      <td>0</td>\n",
       "      <td>0</td>\n",
       "      <td>0</td>\n",
       "      <td>0</td>\n",
       "      <td>0</td>\n",
       "      <td>0</td>\n",
       "      <td>0</td>\n",
       "      <td>0</td>\n",
       "      <td>0</td>\n",
       "    </tr>\n",
       "    <tr>\n",
       "      <th>3</th>\n",
       "      <td>0</td>\n",
       "      <td>0</td>\n",
       "      <td>0</td>\n",
       "      <td>0</td>\n",
       "      <td>0</td>\n",
       "      <td>0</td>\n",
       "      <td>0</td>\n",
       "      <td>0</td>\n",
       "      <td>0</td>\n",
       "      <td>0</td>\n",
       "      <td>...</td>\n",
       "      <td>0</td>\n",
       "      <td>0</td>\n",
       "      <td>0</td>\n",
       "      <td>0</td>\n",
       "      <td>0</td>\n",
       "      <td>0</td>\n",
       "      <td>0</td>\n",
       "      <td>0</td>\n",
       "      <td>0</td>\n",
       "      <td>0</td>\n",
       "    </tr>\n",
       "    <tr>\n",
       "      <th>4</th>\n",
       "      <td>0</td>\n",
       "      <td>0</td>\n",
       "      <td>0</td>\n",
       "      <td>0</td>\n",
       "      <td>0</td>\n",
       "      <td>0</td>\n",
       "      <td>0</td>\n",
       "      <td>0</td>\n",
       "      <td>0</td>\n",
       "      <td>0</td>\n",
       "      <td>...</td>\n",
       "      <td>0</td>\n",
       "      <td>0</td>\n",
       "      <td>0</td>\n",
       "      <td>0</td>\n",
       "      <td>0</td>\n",
       "      <td>0</td>\n",
       "      <td>0</td>\n",
       "      <td>0</td>\n",
       "      <td>0</td>\n",
       "      <td>0</td>\n",
       "    </tr>\n",
       "  </tbody>\n",
       "</table>\n",
       "<p>5 rows × 11946 columns</p>\n",
       "</div>"
      ],
      "text/plain": [
       "   aaaaa  aaaand  aaahhhhhh  aaron  ab  aba  aback  abandon  abandoned  \\\n",
       "0      0       0          0      0   0    0      0        0          0   \n",
       "1      0       0          0      0   0    0      0        0          0   \n",
       "2      0       0          0      0   0    0      0        0          0   \n",
       "3      0       0          0      0   0    0      0        0          0   \n",
       "4      0       0          0      0   0    0      0        0          0   \n",
       "\n",
       "   abandoning  ...  zoim  zombie  zomble  zone  zoned  zoning  zoo  \\\n",
       "0           0  ...     0       0       0     0      0       0    0   \n",
       "1           0  ...     0       0       0     0      0       0    0   \n",
       "2           0  ...     0       0       0     0      0       0    0   \n",
       "3           0  ...     0       0       0     0      0       0    0   \n",
       "4           0  ...     0       0       0     0      0       0    0   \n",
       "\n",
       "   zookeepers  zoom  zzz  \n",
       "0           0     0    0  \n",
       "1           0     0    0  \n",
       "2           0     0    0  \n",
       "3           0     0    0  \n",
       "4           0     0    0  \n",
       "\n",
       "[5 rows x 11946 columns]"
      ]
     },
     "execution_count": 7,
     "metadata": {},
     "output_type": "execute_result"
    }
   ],
   "source": [
    "vectorizer = CountVectorizer()\n",
    "vec_transformed = vectorizer.fit_transform(data.lemmatized_text)\n",
    "DocTermMatrix = pd.DataFrame(vec_transformed.toarray(), columns=vectorizer.get_feature_names_out())\n",
    "DocTermMatrix.head()"
   ]
  },
  {
   "cell_type": "markdown",
   "metadata": {},
   "source": [
    "# Label re-encoding"
   ]
  },
  {
   "cell_type": "code",
   "execution_count": 9,
   "metadata": {},
   "outputs": [
    {
     "data": {
      "text/plain": [
       "0                        Positive\n",
       "1    Depression/Suicidal Thoughts\n",
       "2                        Positive\n",
       "3    Depression/Suicidal Thoughts\n",
       "4                         Neutral\n",
       "5                        Positive\n",
       "6                         Neutral\n",
       "7                        Positive\n",
       "8                        Positive\n",
       "9                        Positive\n",
       "Name: label, dtype: object"
      ]
     },
     "execution_count": 9,
     "metadata": {},
     "output_type": "execute_result"
    }
   ],
   "source": [
    "labelling = data.iloc[:,0]\n",
    "labelling.head(10)"
   ]
  },
  {
   "cell_type": "code",
   "execution_count": 10,
   "metadata": {},
   "outputs": [],
   "source": [
    "labelEncoder = LabelEncoder()\n",
    "labelling_transformed = labelEncoder.fit_transform(labelling)"
   ]
  },
  {
   "cell_type": "code",
   "execution_count": 11,
   "metadata": {},
   "outputs": [
    {
     "data": {
      "text/plain": [
       "array([2, 0, 2, 0, 1, 2, 1, 2, 2, 2])"
      ]
     },
     "execution_count": 11,
     "metadata": {},
     "output_type": "execute_result"
    }
   ],
   "source": [
    "labelling_transformed[:10]"
   ]
  },
  {
   "cell_type": "code",
   "execution_count": 21,
   "metadata": {},
   "outputs": [
    {
     "data": {
      "text/plain": [
       "['Depression/Suicidal Thoughts', 'Neutral', 'Positive']"
      ]
     },
     "execution_count": 21,
     "metadata": {},
     "output_type": "execute_result"
    }
   ],
   "source": [
    "list(labelEncoder.classes_)"
   ]
  },
  {
   "cell_type": "markdown",
   "metadata": {},
   "source": [
    "# Train Test Split"
   ]
  },
  {
   "cell_type": "code",
   "execution_count": 23,
   "metadata": {},
   "outputs": [],
   "source": [
    "X_train, X_test, y_train, y_test = train_test_split(DocTermMatrix, labelling_transformed,\n",
    "                                                    test_size=1/3, random_state=42)"
   ]
  },
  {
   "cell_type": "code",
   "execution_count": 32,
   "metadata": {},
   "outputs": [],
   "source": [
    "unique_values, counts = np.unique(y_train, return_counts=True)"
   ]
  },
  {
   "cell_type": "code",
   "execution_count": 44,
   "metadata": {},
   "outputs": [
    {
     "data": {
      "image/png": "[encoded data removed]",
      "text/plain": [
       "<Figure size 1000x600 with 2 Axes>"
      ]
     },
     "metadata": {},
     "output_type": "display_data"
    }
   ],
   "source": [
    "plt.figure(figsize=(10,6))\n",
    "plt.suptitle(\"Counts of each category per group\")\n",
    "plt.subplot(121)\n",
    "unique_values, counts = np.unique(y_train, return_counts=True)\n",
    "plt.bar(unique_values, counts, width = 0.5,\n",
    "        color = [\"red\", \"blue\", \"green\"])\n",
    "plt.title(\"Train Group\")\n",
    "\n",
    "plt.subplot(122)\n",
    "unique_values, counts = np.unique(y_test, return_counts=True)\n",
    "plt.bar(unique_values, counts, width = 0.5,\n",
    "        color = [\"red\", \"blue\", \"green\"])\n",
    "plt.title(\"Test Group\")\n",
    "\n",
    "plt.show()"
   ]
  }
 ],
 "metadata": {
  "kernelspec": {
   "display_name": "MyEnv",
   "language": "python",
   "name": "python3"
  },
  "language_info": {
   "codemirror_mode": {
    "name": "ipython",
    "version": 3
   },
   "file_extension": ".py",
   "mimetype": "text/x-python",
   "name": "python",
   "nbconvert_exporter": "python",
   "pygments_lexer": "ipython3",
   "version": "3.9.18"
  }
 },
 "nbformat": 4,
 "nbformat_minor": 2
}
