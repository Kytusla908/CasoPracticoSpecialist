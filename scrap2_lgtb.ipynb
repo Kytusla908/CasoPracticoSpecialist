{
 "cells": [
  {
   "cell_type": "code",
   "execution_count": 38,
   "metadata": {},
   "outputs": [
    {
     "name": "stdout",
     "output_type": "stream",
     "text": [
      "Total number of posts retrieved: 206\n",
      "CSV file saved successfully.\n"
     ]
    }
   ],
   "source": [
    "import praw\n",
    "import pandas as pd\n",
    "\n",
    "# Configure Reddit connection\n",
    "reddit = praw.Reddit(\n",
    "    client_id='tkfZf4bqTqa7QPI94A-j2g',\n",
    "    client_secret='e8c2Xpv6JAhpPRuHlXHzFwVwOnOSvw',\n",
    "    user_agent='Jugavi (by u/Chemical_Ad410)'\n",
    ")\n",
    "\n",
    "# Select the subreddit\n",
    "subreddit = reddit.subreddit('lgbtqteens')\n",
    "\n",
    "# Collect recent posts\n",
    "posts = []\n",
    "for post in subreddit.new(limit=10000):  # Adjust limit as needed\n",
    "    posts.append(post.selftext)\n",
    "\n",
    "# Save data to CSV\n",
    "df = pd.DataFrame(posts, columns=['Posts'])\n",
    "df.to_csv('lgtbteens_posts.csv', index=False)\n",
    "\n",
    "print(f\"Total number of posts retrieved: {len(posts)}\")\n",
    "print(\"CSV file saved successfully.\")\n"
   ]
  },
  {
   "cell_type": "code",
   "execution_count": 42,
   "metadata": {},
   "outputs": [
    {
     "name": "stdout",
     "output_type": "stream",
     "text": [
      "<class 'pandas.core.frame.DataFrame'>\n",
      "Index: 145 entries, 0 to 201\n",
      "Data columns (total 1 columns):\n",
      " #   Column  Non-Null Count  Dtype \n",
      "---  ------  --------------  ----- \n",
      " 0   Posts   145 non-null    object\n",
      "dtypes: object(1)\n",
      "memory usage: 2.3+ KB\n",
      "\n",
      "\n",
      "                                                Posts\n",
      "0  we must apply pressure to our leaders and let ...\n",
      "1  hey guys i kinda just wanna rant to someone i ...\n",
      "3  the cdcs website really helped me maybe it can...\n",
      "4  okay for a little backstory ive known im nonbi...\n",
      "5  so im a lesbian ive been coming out for the pa...\n"
     ]
    }
   ],
   "source": [
    "import re \n",
    "\n",
    "# Load CSV into DataFrame\n",
    "file_path = 'lgtbteens_posts.csv'\n",
    "data = pd.read_csv(file_path)\n",
    "\n",
    "# Convert 'Content' column to string type\n",
    "data['Posts'] = data['Posts'].astype(str)\n",
    "\n",
    "# Drop NaNs\n",
    "data = data[data[\"Posts\"] != 'nan']\n",
    "\n",
    "\n",
    "# Function to remove special characters, URLs, and unnecessary whitespace\n",
    "def clean_text(text):\n",
    "    # Remove URLs\n",
    "    text = re.sub(r'https\\S+', '', text)\n",
    "    \n",
    "    # Remove special characters and numbers (retain only letters)\n",
    "    text = re.sub(r'[^a-zA-Z\\s]', '', text)\n",
    "    \n",
    "    # Normalize spaces to single space and convert to lowercase\n",
    "    text = re.sub(r'\\s+', ' ', text).strip().lower()\n",
    "    \n",
    "    return text\n",
    "\n",
    "\n",
    "# Apply clean_text function to 'posts' column\n",
    "data['Posts'] = data['Posts'].apply(clean_text)\n",
    "\n",
    "\n",
    "# Print first few rows to verify\n",
    "data.info()\n",
    "print('\\n\\n', data.head())"
   ]
  }
 ],
 "metadata": {
  "kernelspec": {
   "display_name": "Python 3",
   "language": "python",
   "name": "python3"
  },
  "language_info": {
   "codemirror_mode": {
    "name": "ipython",
    "version": 3
   },
   "file_extension": ".py",
   "mimetype": "text/x-python",
   "name": "python",
   "nbconvert_exporter": "python",
   "pygments_lexer": "ipython3",
   "version": "3.9.18"
  }
 },
 "nbformat": 4,
 "nbformat_minor": 2
}
