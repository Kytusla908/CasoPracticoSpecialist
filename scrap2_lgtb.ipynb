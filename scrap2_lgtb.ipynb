{
 "cells": [
  {
   "cell_type": "code",
   "execution_count": 6,
   "metadata": {},
   "outputs": [],
   "source": [
    "import pandas as pd\n",
    "import re "
   ]
  },
  {
   "cell_type": "code",
   "execution_count": 7,
   "metadata": {},
   "outputs": [],
   "source": [
    "# Configure Reddit connection\n",
    "reddit = praw.Reddit(\n",
    "    client_id='tkfZf4bqTqa7QPI94A-j2g',\n",
    "    client_secret='e8c2Xpv6JAhpPRuHlXHzFwVwOnOSvw',\n",
    "    user_agent='Jugavi (by u/Chemical_Ad410)'\n",
    ")\n",
    "\n",
    "# Select the subreddit\n",
    "subreddit = reddit.subreddit('lgbtqteens')\n",
    "\n",
    "# Collect recent posts\n",
    "posts = []\n",
    "for post in subreddit.new(limit=10000):  # Adjust limit as needed\n",
    "    posts.append(post.selftext)\n",
    "\n",
    "# Save data to CSV\n",
    "df = pd.DataFrame(posts, columns=['Posts'])\n",
    "df.to_csv('lgtbteens_posts.csv', index=False)\n",
    "\n",
    "print(f\"Total number of posts retrieved: {len(posts)}\")\n",
    "print(\"CSV file saved successfully.\")\n"
   ]
  },
  {
   "cell_type": "markdown",
   "metadata": {},
   "source": [
    "# Data Cleansing"
   ]
  },
  {
   "cell_type": "code",
   "execution_count": 8,
   "metadata": {},
   "outputs": [
    {
     "name": "stdout",
     "output_type": "stream",
     "text": [
      "<class 'pandas.core.frame.DataFrame'>\n",
      "Index: 145 entries, 0 to 201\n",
      "Data columns (total 1 columns):\n",
      " #   Column  Non-Null Count  Dtype \n",
      "---  ------  --------------  ----- \n",
      " 0   Posts   145 non-null    object\n",
      "dtypes: object(1)\n",
      "memory usage: 2.3+ KB\n",
      "\n",
      "\n",
      "                                                Posts\n",
      "0  we must apply pressure to our leaders and let ...\n",
      "1  hey guys i kinda just wanna rant to someone i ...\n",
      "3  the cdcs website really helped me maybe it can...\n",
      "4  okay for a little backstory ive known im nonbi...\n",
      "5  so im a lesbian ive been coming out for the pa...\n"
     ]
    }
   ],
   "source": [
    "\n",
    "# Load CSV into DataFrame\n",
    "file_path = 'lgtbteens_posts.csv'\n",
    "data = pd.read_csv(file_path)\n",
    "\n",
    "# Convert 'Content' column to string type\n",
    "data['Posts'] = data['Posts'].astype(str)\n",
    "\n",
    "# Drop NaNs\n",
    "data = data[data[\"Posts\"] != 'nan']\n",
    "\n",
    "\n",
    "# Function to remove special characters, URLs, and unnecessary whitespace\n",
    "def clean_text(text):\n",
    "    # Remove URLs\n",
    "    text = re.sub(r'https\\S+', '', text)\n",
    "    \n",
    "    # Remove special characters and numbers (retain only letters)\n",
    "    text = re.sub(r'[^a-zA-Z\\s]', '', text)\n",
    "    \n",
    "    # Normalize spaces to single space and convert to lowercase\n",
    "    text = re.sub(r'\\s+', ' ', text).strip().lower()\n",
    "    \n",
    "    return text\n",
    "\n",
    "\n",
    "# Apply clean_text function to 'posts' column\n",
    "data['Posts'] = data['Posts'].apply(clean_text)\n",
    "\n",
    "\n",
    "# Print first few rows to verify\n",
    "data.info()\n",
    "print('\\n\\n', data.head())"
   ]
  },
  {
   "cell_type": "code",
   "execution_count": 10,
   "metadata": {},
   "outputs": [],
   "source": [
    "# Save modified DataFrame back to CSV file\n",
    "modified_file_path = 'lgtbteens_cleaned.csv'\n",
    "data.to_csv(modified_file_path, index=False)"
   ]
  },
  {
   "cell_type": "markdown",
   "metadata": {},
   "source": [
    "# Dataset labeling"
   ]
  },
  {
   "cell_type": "code",
   "execution_count": 11,
   "metadata": {},
   "outputs": [
    {
     "name": "stdout",
     "output_type": "stream",
     "text": [
      "<class 'pandas.core.frame.DataFrame'>\n",
      "RangeIndex: 997 entries, 0 to 996\n",
      "Data columns (total 2 columns):\n",
      " #   Column  Non-Null Count  Dtype  \n",
      "---  ------  --------------  -----  \n",
      " 0   posts   997 non-null    object \n",
      " 1   label   0 non-null      float64\n",
      "dtypes: float64(1), object(1)\n",
      "memory usage: 15.7+ KB\n"
     ]
    }
   ],
   "source": [
    "data = pd.read_csv('teenagers_cleaned.csv')\n",
    "data.info()"
   ]
  },
  {
   "cell_type": "code",
   "execution_count": 12,
   "metadata": {},
   "outputs": [],
   "source": [
    "# Define labels \n",
    "labels = {\n",
    "    'Positive': ['happy', 'content', 'normal', 'satisfied', 'positive', 'joyful', 'cheerful', 'carefree', 'peaceful', 'calm', 'stable', 'balanced', 'serene', 'hopeful', 'fulfilled', 'optimistic', 'lively', 'energetic', 'vibrant', 'thriving', 'well-adjusted', 'resilient', 'upbeat', 'buoyant', 'enthusiastic', 'lively', 'elated','resilient', 'coping', 'managing stress', 'problem-solving', 'optimistic', 'hopeful', 'supportive relationships', 'exercise', 'hobbies', 'blessed', 'life is good', 'life is beautiful', \"i feel great today\", \"i'm so happy right now\", \"i feel so content\", \"i can't stop smiling\", \"i'm in such a good mood\", \"i feel so joyful\", \"everything is going well\", \"i love my life\", \"i'm so grateful for everything\", \"today is a wonderful day\", \"i feel on top of the world\", \"i'm really enjoying myself\", \"i'm so excited about the future\", \"i feel so lucky\", \"i'm surrounded by love\", \"i feel so alive\", \"i'm so happy with my progress\", \"i can't wait to see what happens next\", \"i feel so at peace\", \"everything feels right\", \"i feel so balanced\", \"i feel so calm and relaxed\", \"i'm so at ease\", \"i feel so grounded\", \"i feel so connected\", \"i feel so stable\", \"i feel so secure\", \"i feel so comfortable\", \"i feel so optimistic\", \"i see the good in everything\", \"i believe in myself\", \"i feel so empowered\", \"i'm looking forward to the future\", \"i feel so motivated\", \"i have a positive outlook\", \"i'm confident in my abilities\", \"i feel so inspired\", \"i feel so hopeful\", \"i feel so healthy\", \"i'm taking good care of myself\", \"i feel so energetic\", \"i'm in great shape\", \"i feel so vibrant\", \"i feel so refreshed\", \"i feel so strong\", \"i feel so revitalized\", \"i feel so rejuvenated\", \"i feel so fit\", \"i'm really satisfied with my life\", \"i feel so fulfilled\", \"i'm happy with how things are going\", \"i feel so accomplished\", \"i'm proud of myself\", \"i feel so successful\", \"i'm pleased with my progress\", \"i feel so rewarded\", \"i feel so appreciated\", \"i feel so valued\", \"i'm so thankful for everything i have\", \"i appreciate all the good in my life\", \"i'm grateful for my family and friends\", \"i'm thankful for the little things\", \"i appreciate the beauty around me\", \"i'm grateful for my health\", \"i feel so lucky to be alive\", \"i'm thankful for my experiences\", \"i appreciate every moment\"],\n",
    "    'Mixed Features': ['conflicted', 'ambivalent', 'up and down', 'uncertain', 'mood swings', 'coping and struggling', 'swinging emotions','unsure', 'confused', 'unclear', 'mixed feelings', 'uncertain emotions', 'difficult to understand', 'unclear thoughts', \"i'm not sure how I feel about this\", \"i have mixed emotions\", \"it's a bit of both, good and bad\", \"i feel conflicted\", \"i don't know what to think\", \"i'm happy, but also a little sad\", \"i'm excited, but also nervous\", \"i feel a sense of relief, but also worry\", \"i'm grateful, but it's bittersweet\", \"i'm feeling both hope and fear\", \"i'm torn between two feelings\", \"i can't decide if this is good or bad\", \"i feel both joy and sorrow\", \"i'm both satisfied and dissatisfied\", \"i have a sense of achievement, but also regret\", \"i'm happy with the outcome, but the process was tough\", \"i'm relieved, but still uncertain\", \"i feel proud, but there's a tinge of sadness\", \"i'm both anxious and excited\", \"i feel fulfilled, but also exhausted\", \"i'm not sure if this is right\", \"i can't tell if I'm making the right choice\", \"i feel unsure about my feelings\", \"i'm uncertain about the future\", \"i don't know if i should be happy or sad\", \"i feel confused about my emotions\", \"i'm questioning how i feel\", \"i have doubts about this\", \"i'm unsure if this is a good thing\", \"i don't know what to feel\", \"it's complicated\", \"there are so many layers to this\", \"it's not black and white\", \"i have a lot of thoughts about this\", \"it's a mix of emotions\", \"it's a tough situation\", \"i'm feeling a lot of different things\", \"it's hard to put into words\", \"i'm experiencing conflicting emotions\", \"it's both good and bad\", \"i'm not sure what to expect\", \"it could go either way\", \"the outcome is uncertain\", \"i'm not sure how things will turn out\", \"it's unpredictable\", \"i don't know what's going to happen\", \"it could be a blessing or a curse\", \"i'm waiting to see how it unfolds\", \"it's still up in the air\", \"the results are unclear\", \"i'm happy if it works out\", \"i'll be okay depending on the outcome\", \"it all depends on what happens next\", \"i'll feel better if things go as planned\", \"my feelings are conditional on the situation\", \"i'm optimistic if things go right\", \"i'll be content if it resolves well\", \"i'm hopeful if there's a positive turn\", \"it will be great if it succeeds\", \"i'm anxious unless i see progress\", \"i'm starting to feel better\", \"it's getting easier over time\", \"i'm slowly coming to terms with it\", \"it's a gradual improvement\", \"i'm beginning to understand\", \"it's getting clearer with time\", \"i'm warming up to the idea\", \"it's taking time, but i'm getting there\", \"i'm adjusting little by little\", \"it's a slow but steady process\"],\n",
    "    'Depression/Suicidal Thoughts': ['sad', 'blue', 'down', 'low', 'unhappy', 'gloomy', 'discouraged', 'disinterested', 'unmotivated', 'indifferent', 'apathetic', 'listless', 'melancholic', 'withdrawn', 'quiet', 'mellow', 'subdued', 'contemplative', 'introspective', 'reflective', 'somber', 'despondent', 'forlorn', 'morose', 'melancholy','depressed', 'hopeless', 'helpless', 'tired', 'fatigued', 'irritable', 'restless', 'agitated', 'anxious', 'stressed', 'overwhelmed', 'burdened', 'somber', 'pensive', 'brooding', 'introspective', 'moody', 'despondent', 'troubled', 'disheartened','moody', 'despondent', 'troubled', 'disheartened', 'dejected', 'discouraged', 'bleak', 'dismal', 'wretched', 'distressed', 'haunted', 'despair', 'worthlessness', 'guilt', 'emptiness', 'numbness', 'isolation', 'loneliness', 'misery', 'anguish', 'sorrow', 'grief', 'devastated', 'devastated', 'anguish', 'agony', 'hopeless', 'suicidal', 'inconsolable', 'apathetic', 'thoughts','death', 'die', 'end it', 'disappear', 'escape', 'peaceful', 'painless', 'no reason to live','suicidal', 'planning', 'thinking about death', 'ways to die', 'unbearable pain', 'ending life', 'giving up','suicide', 'intent', 'method', 'preparation', 'goodbye letters', 'final arrangements', 'goodbye messages', 'suicide note', \"what's the point of life\", \"I can't keep up anymore\", \"I feel worthless\", \"I can't keep up anymore\", \"I feel empty inside\", \"nothing makes me happy anymore\", \"i feel hopeless\", \"i can't see a way out\", \"i don't care about anything\", \"i feel like a burden\", \"everything feels pointless\", \"i have no motivation to do anything\", \"i can't stop crying\", \"i feel numb\", \"i can't concentrate on anything\", \"i feel so alone\", \"i'm exhausted all the time\", \"i can't find joy in things i used to love\", \"i feel like i'm drowning\", \"i'm just so tired\", \"i can't see a future for myself\", \"i feel like i'm falling apart\", \"i don't have the energy to get out of bed\", \"i wish i could just disappear\", \"i can't go on like this\", \"everyone would be better off without me\", \"i can't handle this pain anymore\", \"i don't want to be here anymore\", \"i can't take this anymore\", \"i feel like giving up\", \"i just want everything to stop\", \"i don't want to wake up\", \"i feel like there's no escape\", \"i've been thinking about ending it all\", \"i can't live with this pain\", \"i feel like my life is over\", \"i just want the pain to end\", \"i don't think i can keep going\", \"life feels unbearable\", \"i'm overwhelmed by my emotions\", \"i feel like i'm in a dark hole\", \"i can't escape these thoughts\", \"everything feels heavy\", \"i can't stop these dark thoughts\", \"i feel completely worthless\", \"i can't handle the pressure anymore\", \"i'm drowning in my own mind\", \"i'm losing control\", \"i'm at the end of my rope\", \"i don't see any point in living\", \"i can't keep fighting\", \"i'm suffocating\", \"i've lost the will to live\"],\n",
    "}"
   ]
  },
  {
   "cell_type": "code",
   "execution_count": 15,
   "metadata": {},
   "outputs": [
    {
     "name": "stdout",
     "output_type": "stream",
     "text": [
      "                                               Posts    label\n",
      "0  we must apply pressure to our leaders and let ...  Neutral\n",
      "1  hey guys i kinda just wanna rant to someone i ...  Neutral\n",
      "2  the cdcs website really helped me maybe it can...  Neutral\n",
      "3  okay for a little backstory ive known im nonbi...  Neutral\n",
      "4  so im a lesbian ive been coming out for the pa...  Neutral\n",
      "\n",
      "\n",
      "<class 'pandas.core.frame.DataFrame'>\n",
      "RangeIndex: 145 entries, 0 to 144\n",
      "Data columns (total 2 columns):\n",
      " #   Column  Non-Null Count  Dtype \n",
      "---  ------  --------------  ----- \n",
      " 0   Posts   144 non-null    object\n",
      " 1   label   145 non-null    object\n",
      "dtypes: object(2)\n",
      "memory usage: 2.4+ KB\n",
      "\n",
      "\n",
      " label\n",
      "Neutral                         113\n",
      "Positive                         15\n",
      "Mixed Features                    9\n",
      "Depression/Suicidal Thoughts      8\n",
      "Name: count, dtype: int64\n"
     ]
    }
   ],
   "source": [
    "# Flatten the labels dictionary\n",
    "flattened_labels = {word: category for category, words in labels.items() for word in words}\n",
    "\n",
    "# Function to categorize labels based on presence in text\n",
    "def categorize_label(text):\n",
    "    text = text.lower()  # Ensure the text is in lowercase for matching\n",
    "    words = text.split()\n",
    "    \n",
    "    for category, keywords in labels.items():\n",
    "        if any(word in words for word in keywords):\n",
    "            return category\n",
    "    return 'Neutral'  # Return 'Neutral' if no match found\n",
    "\n",
    "# Read the CSV file into a DataFrame\n",
    "file_path = 'lgtbteens_cleaned.csv'\n",
    "data = pd.read_csv(file_path)\n",
    "\n",
    "# Apply label categorization function\n",
    "data['label'] = data['Posts'].astype(str).apply(lambda x: categorize_label(x))\n",
    "\n",
    "# Print the first few rows of the DataFrame to check the result\n",
    "print(data.head())\n",
    "print('\\n')\n",
    "data.info()\n",
    "print('\\n\\n', data['label'].value_counts())"
   ]
  },
  {
   "cell_type": "code",
   "execution_count": 16,
   "metadata": {},
   "outputs": [
    {
     "name": "stdout",
     "output_type": "stream",
     "text": [
      "                                                 Posts  \\\n",
      "6    hey so im and attempting to write a murder mys...   \n",
      "11   yall my mom just sat me down and asked me if i...   \n",
      "30   my hair has always been long and i did quite l...   \n",
      "51   hi me knew youd be here lurking again this is ...   \n",
      "62   the title says it all really my life has been ...   \n",
      "67   so yall know im genderfluid and im genetically...   \n",
      "118  ello as you can see by my username th grader h...   \n",
      "120  this is my first post on reddit so i have no h...   \n",
      "\n",
      "                            label  \n",
      "6    Depression/Suicidal Thoughts  \n",
      "11   Depression/Suicidal Thoughts  \n",
      "30   Depression/Suicidal Thoughts  \n",
      "51   Depression/Suicidal Thoughts  \n",
      "62   Depression/Suicidal Thoughts  \n",
      "67   Depression/Suicidal Thoughts  \n",
      "118  Depression/Suicidal Thoughts  \n",
      "120  Depression/Suicidal Thoughts  \n"
     ]
    }
   ],
   "source": [
    "# Filter the rows labeled as \"Depression/Suicidal Thoughts\"\n",
    "depression_suicidal_df = data[data['label'] == 'Depression/Suicidal Thoughts']\n",
    "\n",
    "# Display the filtered rows\n",
    "print(depression_suicidal_df)\n"
   ]
  },
  {
   "cell_type": "code",
   "execution_count": 17,
   "metadata": {},
   "outputs": [],
   "source": [
    "# Save the DataFrame with the new labels back to a CSV file \n",
    "data.to_csv(output_file_path, index=False)"
   ]
  }
 ],
 "metadata": {
  "kernelspec": {
   "display_name": "Python 3",
   "language": "python",
   "name": "python3"
  },
  "language_info": {
   "codemirror_mode": {
    "name": "ipython",
    "version": 3
   },
   "file_extension": ".py",
   "mimetype": "text/x-python",
   "name": "python",
   "nbconvert_exporter": "python",
   "pygments_lexer": "ipython3",
   "version": "3.12.2"
  }
 },
 "nbformat": 4,
 "nbformat_minor": 2
}
