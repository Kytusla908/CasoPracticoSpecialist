{
 "cells": [
  {
   "cell_type": "markdown",
   "metadata": {},
   "source": [
    "# Import libraries"
   ]
  },
  {
   "cell_type": "code",
   "execution_count": 1,
   "metadata": {},
   "outputs": [],
   "source": [
    "import pandas as pd\n",
    "from nltk.tokenize import word_tokenize\n",
    "from nltk.corpus import stopwords\n",
    "from nltk.stem import WordNetLemmatizer"
   ]
  },
  {
   "cell_type": "markdown",
   "metadata": {},
   "source": [
    "# Load Data"
   ]
  },
  {
   "cell_type": "code",
   "execution_count": 2,
   "metadata": {},
   "outputs": [
    {
     "name": "stdout",
     "output_type": "stream",
     "text": [
      "Index(['Posts', 'label'], dtype='object')\n",
      "                                               Posts  \\\n",
      "0  so my mum is textbook abusive but not often en...   \n",
      "1  hello i have never made a reddit post before b...   \n",
      "2  i m have tried to be nice to my parents and su...   \n",
      "3  i need some advice it will be a bit long but i...   \n",
      "4  hello im f from the ph with no close friends o...   \n",
      "\n",
      "                          label  \n",
      "0                      Positive  \n",
      "1  Depression/Suicidal Thoughts  \n",
      "2                      Positive  \n",
      "3  Depression/Suicidal Thoughts  \n",
      "4                       Neutral  \n"
     ]
    }
   ],
   "source": [
    "df1 = pd.read_csv('Datasets/R_abusiveparents/abusedteens_labeled.csv')\n",
    "df2 = pd.read_csv('Datasets/R_lgtbteens/lgtbteens_labeled.csv')\n",
    "df3 = pd.read_csv('Datasets/R_teenagers/teenagers_labeled.csv')\n",
    "\n",
    "# Combine DataFrames\n",
    "\n",
    "df = pd.concat([df1, df2, df3], ignore_index=True)\n",
    "\n",
    "print(df.columns)\n",
    "print(df.head())"
   ]
  },
  {
   "cell_type": "markdown",
   "metadata": {},
   "source": [
    "# Tokenization"
   ]
  },
  {
   "cell_type": "code",
   "execution_count": 3,
   "metadata": {},
   "outputs": [
    {
     "name": "stderr",
     "output_type": "stream",
     "text": [
      "C:\\Users\\julia\\AppData\\Local\\Temp\\ipykernel_12312\\3571219924.py:3: FutureWarning: A value is trying to be set on a copy of a DataFrame or Series through chained assignment using an inplace method.\n",
      "The behavior will change in pandas 3.0. This inplace method will never work because the intermediate object on which we are setting values always behaves as a copy.\n",
      "\n",
      "For example, when doing 'df[col].method(value, inplace=True)', try using 'df.method({col: value}, inplace=True)' or df[col] = df[col].method(value) instead, to perform the operation inplace on the original object.\n",
      "\n",
      "\n",
      "  df['Posts'].fillna('', inplace=True)   # Replace NaN values with empty strings\n"
     ]
    },
    {
     "name": "stdout",
     "output_type": "stream",
     "text": [
      "                                               Posts  \\\n",
      "0  so my mum is textbook abusive but not often en...   \n",
      "1  hello i have never made a reddit post before b...   \n",
      "2  i m have tried to be nice to my parents and su...   \n",
      "3  i need some advice it will be a bit long but i...   \n",
      "4  hello im f from the ph with no close friends o...   \n",
      "\n",
      "                          label  \\\n",
      "0                      Positive   \n",
      "1  Depression/Suicidal Thoughts   \n",
      "2                      Positive   \n",
      "3  Depression/Suicidal Thoughts   \n",
      "4                       Neutral   \n",
      "\n",
      "                                      tokenized_text  \n",
      "0  [so, my, mum, is, textbook, abusive, but, not,...  \n",
      "1  [hello, i, have, never, made, a, reddit, post,...  \n",
      "2  [i, m, have, tried, to, be, nice, to, my, pare...  \n",
      "3  [i, need, some, advice, it, will, be, a, bit, ...  \n",
      "4  [hello, im, f, from, the, ph, with, no, close,...  \n"
     ]
    }
   ],
   "source": [
    "# Ensure all entries in 'Posts' are strings and handle missing values\n",
    "df['Posts'] = df['Posts'].astype(str)  # Convert all values to strings\n",
    "df['Posts'].fillna('', inplace=True)   # Replace NaN values with empty strings\n",
    "\n",
    "df['tokenized_text'] = df['Posts'].apply(word_tokenize)\n",
    "print(df.head())"
   ]
  },
  {
   "cell_type": "markdown",
   "metadata": {},
   "source": [
    "# Remove Stopwords"
   ]
  },
  {
   "cell_type": "code",
   "execution_count": 4,
   "metadata": {},
   "outputs": [],
   "source": [
    "stop_words = set(stopwords.words('english'))\n",
    "\n",
    "# Function to remove stopwords\n",
    "def remove_stopwords(tokens):\n",
    "    return [word for word in tokens if word.lower() not in stop_words]\n",
    "\n",
    "df['filtered_text'] = df['tokenized_text'].apply(remove_stopwords)"
   ]
  },
  {
   "cell_type": "markdown",
   "metadata": {},
   "source": [
    "# Lemmatization"
   ]
  },
  {
   "cell_type": "code",
   "execution_count": 5,
   "metadata": {},
   "outputs": [],
   "source": [
    "lemmatizer = WordNetLemmatizer()\n",
    "def lemmatize_words(tokens):\n",
    "    return [lemmatizer.lemmatize(word) for word in tokens]\n",
    "\n",
    "df['lemmatized_text'] = df['filtered_text'].apply(lemmatize_words)\n"
   ]
  },
  {
   "cell_type": "markdown",
   "metadata": {},
   "source": [
    "# Save tokenized text as CSV"
   ]
  },
  {
   "cell_type": "code",
   "execution_count": null,
   "metadata": {},
   "outputs": [],
   "source": [
    "df.to_csv('token_datasets.csv', index=False)"
   ]
  }
 ],
 "metadata": {
  "kernelspec": {
   "display_name": "Python 3",
   "language": "python",
   "name": "python3"
  },
  "language_info": {
   "codemirror_mode": {
    "name": "ipython",
    "version": 3
   },
   "file_extension": ".py",
   "mimetype": "text/x-python",
   "name": "python",
   "nbconvert_exporter": "python",
   "pygments_lexer": "ipython3",
   "version": "3.12.2"
  }
 },
 "nbformat": 4,
 "nbformat_minor": 2
}
